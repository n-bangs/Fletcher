{
 "cells": [
  {
   "cell_type": "code",
   "execution_count": 1,
   "metadata": {
    "collapsed": true
   },
   "outputs": [],
   "source": [
    "import json\n",
    "import pandas as pd\n",
    "import numpy as np"
   ]
  },
  {
   "cell_type": "code",
   "execution_count": 2,
   "metadata": {
    "collapsed": true
   },
   "outputs": [],
   "source": [
    "f =  open('../data/user_rating_dict.json')"
   ]
  },
  {
   "cell_type": "code",
   "execution_count": 3,
   "metadata": {
    "collapsed": true
   },
   "outputs": [],
   "source": [
    "j = json.loads(f.read())"
   ]
  },
  {
   "cell_type": "code",
   "execution_count": 4,
   "metadata": {
    "collapsed": false
   },
   "outputs": [],
   "source": [
    "m = []\n",
    "for usr in j:\n",
    "    for r in list(j[usr].items()):\n",
    "        m.append([usr,r[0],r[1]])\n",
    "    "
   ]
  },
  {
   "cell_type": "code",
   "execution_count": 5,
   "metadata": {
    "collapsed": false
   },
   "outputs": [],
   "source": [
    "df = pd.DataFrame(m)"
   ]
  },
  {
   "cell_type": "code",
   "execution_count": 6,
   "metadata": {
    "collapsed": false
   },
   "outputs": [],
   "source": [
    "df[2] = df[2].apply(float)"
   ]
  },
  {
   "cell_type": "code",
   "execution_count": 13,
   "metadata": {
    "collapsed": false
   },
   "outputs": [],
   "source": [
    "means = {}\n",
    "\n",
    "for u in df[1].unique():\n",
    "    means[u] = df[df[1] == u][2].mean()\n",
    "\n"
   ]
  },
  {
   "cell_type": "code",
   "execution_count": 30,
   "metadata": {
    "collapsed": false
   },
   "outputs": [
    {
     "data": {
      "text/plain": [
       "3.9323699421965315"
      ]
     },
     "execution_count": 30,
     "metadata": {},
     "output_type": "execute_result"
    }
   ],
   "source": [
    "means[list(means.keys())[0]]"
   ]
  },
  {
   "cell_type": "code",
   "execution_count": 32,
   "metadata": {
    "collapsed": false,
    "scrolled": true
   },
   "outputs": [
    {
     "data": {
      "text/html": [
       "<div>\n",
       "<table border=\"1\" class=\"dataframe\">\n",
       "  <thead>\n",
       "    <tr style=\"text-align: right;\">\n",
       "      <th></th>\n",
       "      <th></th>\n",
       "      <th>1</th>\n",
       "      <th>10</th>\n",
       "      <th>100</th>\n",
       "      <th>1000</th>\n",
       "      <th>1001</th>\n",
       "      <th>1002</th>\n",
       "      <th>10021</th>\n",
       "      <th>10022</th>\n",
       "      <th>10023</th>\n",
       "      <th>10024</th>\n",
       "      <th>...</th>\n",
       "      <th>992</th>\n",
       "      <th>9947</th>\n",
       "      <th>995</th>\n",
       "      <th>996</th>\n",
       "      <th>9966</th>\n",
       "      <th>9967</th>\n",
       "      <th>9969</th>\n",
       "      <th>997</th>\n",
       "      <th>9982</th>\n",
       "      <th>999</th>\n",
       "    </tr>\n",
       "    <tr>\n",
       "      <th></th>\n",
       "      <th>1</th>\n",
       "      <th></th>\n",
       "      <th></th>\n",
       "      <th></th>\n",
       "      <th></th>\n",
       "      <th></th>\n",
       "      <th></th>\n",
       "      <th></th>\n",
       "      <th></th>\n",
       "      <th></th>\n",
       "      <th></th>\n",
       "      <th></th>\n",
       "      <th></th>\n",
       "      <th></th>\n",
       "      <th></th>\n",
       "      <th></th>\n",
       "      <th></th>\n",
       "      <th></th>\n",
       "      <th></th>\n",
       "      <th></th>\n",
       "      <th></th>\n",
       "      <th></th>\n",
       "    </tr>\n",
       "  </thead>\n",
       "  <tbody>\n",
       "    <tr>\n",
       "      <th rowspan=\"5\" valign=\"top\">2</th>\n",
       "      <th>https://www.ratebeer.com/beer/10-barrel--bluejacket--stone-suede-imperial-porter/231482/</th>\n",
       "      <td>NaN</td>\n",
       "      <td>NaN</td>\n",
       "      <td>NaN</td>\n",
       "      <td>NaN</td>\n",
       "      <td>NaN</td>\n",
       "      <td>NaN</td>\n",
       "      <td>NaN</td>\n",
       "      <td>NaN</td>\n",
       "      <td>NaN</td>\n",
       "      <td>NaN</td>\n",
       "      <td>...</td>\n",
       "      <td>NaN</td>\n",
       "      <td>3.7</td>\n",
       "      <td>NaN</td>\n",
       "      <td>NaN</td>\n",
       "      <td>NaN</td>\n",
       "      <td>NaN</td>\n",
       "      <td>NaN</td>\n",
       "      <td>NaN</td>\n",
       "      <td>2.7</td>\n",
       "      <td>NaN</td>\n",
       "    </tr>\n",
       "    <tr>\n",
       "      <th>https://www.ratebeer.com/beer/21st-amendment--firestone-walker--stone-el-camino-unreal-black-ale/119723/</th>\n",
       "      <td>NaN</td>\n",
       "      <td>4.4</td>\n",
       "      <td>NaN</td>\n",
       "      <td>NaN</td>\n",
       "      <td>NaN</td>\n",
       "      <td>3.5</td>\n",
       "      <td>NaN</td>\n",
       "      <td>NaN</td>\n",
       "      <td>NaN</td>\n",
       "      <td>NaN</td>\n",
       "      <td>...</td>\n",
       "      <td>NaN</td>\n",
       "      <td>3.9</td>\n",
       "      <td>NaN</td>\n",
       "      <td>NaN</td>\n",
       "      <td>NaN</td>\n",
       "      <td>NaN</td>\n",
       "      <td>NaN</td>\n",
       "      <td>NaN</td>\n",
       "      <td>3.6</td>\n",
       "      <td>NaN</td>\n",
       "    </tr>\n",
       "    <tr>\n",
       "      <th>https://www.ratebeer.com/beer/abc-brewing-henrik-imperial-amber/168983/</th>\n",
       "      <td>NaN</td>\n",
       "      <td>NaN</td>\n",
       "      <td>NaN</td>\n",
       "      <td>NaN</td>\n",
       "      <td>NaN</td>\n",
       "      <td>NaN</td>\n",
       "      <td>NaN</td>\n",
       "      <td>NaN</td>\n",
       "      <td>NaN</td>\n",
       "      <td>NaN</td>\n",
       "      <td>...</td>\n",
       "      <td>NaN</td>\n",
       "      <td>NaN</td>\n",
       "      <td>NaN</td>\n",
       "      <td>NaN</td>\n",
       "      <td>NaN</td>\n",
       "      <td>NaN</td>\n",
       "      <td>NaN</td>\n",
       "      <td>NaN</td>\n",
       "      <td>NaN</td>\n",
       "      <td>NaN</td>\n",
       "    </tr>\n",
       "    <tr>\n",
       "      <th>https://www.ratebeer.com/beer/against-the-grain--18th-street-multi-use-warehouse/415774/</th>\n",
       "      <td>NaN</td>\n",
       "      <td>NaN</td>\n",
       "      <td>NaN</td>\n",
       "      <td>NaN</td>\n",
       "      <td>NaN</td>\n",
       "      <td>NaN</td>\n",
       "      <td>NaN</td>\n",
       "      <td>NaN</td>\n",
       "      <td>NaN</td>\n",
       "      <td>NaN</td>\n",
       "      <td>...</td>\n",
       "      <td>NaN</td>\n",
       "      <td>NaN</td>\n",
       "      <td>NaN</td>\n",
       "      <td>NaN</td>\n",
       "      <td>NaN</td>\n",
       "      <td>NaN</td>\n",
       "      <td>NaN</td>\n",
       "      <td>NaN</td>\n",
       "      <td>NaN</td>\n",
       "      <td>NaN</td>\n",
       "    </tr>\n",
       "    <tr>\n",
       "      <th>https://www.ratebeer.com/beer/against-the-grain--akasha-hold-me-closer-thai-ny-danza/341797/</th>\n",
       "      <td>NaN</td>\n",
       "      <td>NaN</td>\n",
       "      <td>NaN</td>\n",
       "      <td>NaN</td>\n",
       "      <td>NaN</td>\n",
       "      <td>NaN</td>\n",
       "      <td>NaN</td>\n",
       "      <td>NaN</td>\n",
       "      <td>NaN</td>\n",
       "      <td>NaN</td>\n",
       "      <td>...</td>\n",
       "      <td>NaN</td>\n",
       "      <td>NaN</td>\n",
       "      <td>NaN</td>\n",
       "      <td>NaN</td>\n",
       "      <td>NaN</td>\n",
       "      <td>NaN</td>\n",
       "      <td>NaN</td>\n",
       "      <td>NaN</td>\n",
       "      <td>NaN</td>\n",
       "      <td>NaN</td>\n",
       "    </tr>\n",
       "  </tbody>\n",
       "</table>\n",
       "<p>5 rows × 4511 columns</p>\n",
       "</div>"
      ],
      "text/plain": [
       "0                                                      1   10  100  1000  \\\n",
       "  1                                                                        \n",
       "2 https://www.ratebeer.com/beer/10-barrel--blueja... NaN  NaN  NaN   NaN   \n",
       "  https://www.ratebeer.com/beer/21st-amendment--f... NaN  4.4  NaN   NaN   \n",
       "  https://www.ratebeer.com/beer/abc-brewing-henri... NaN  NaN  NaN   NaN   \n",
       "  https://www.ratebeer.com/beer/against-the-grain... NaN  NaN  NaN   NaN   \n",
       "  https://www.ratebeer.com/beer/against-the-grain... NaN  NaN  NaN   NaN   \n",
       "\n",
       "0                                                     1001  1002  10021  \\\n",
       "  1                                                                       \n",
       "2 https://www.ratebeer.com/beer/10-barrel--blueja...   NaN   NaN    NaN   \n",
       "  https://www.ratebeer.com/beer/21st-amendment--f...   NaN   3.5    NaN   \n",
       "  https://www.ratebeer.com/beer/abc-brewing-henri...   NaN   NaN    NaN   \n",
       "  https://www.ratebeer.com/beer/against-the-grain...   NaN   NaN    NaN   \n",
       "  https://www.ratebeer.com/beer/against-the-grain...   NaN   NaN    NaN   \n",
       "\n",
       "0                                                     10022  10023  10024  \\\n",
       "  1                                                                         \n",
       "2 https://www.ratebeer.com/beer/10-barrel--blueja...    NaN    NaN    NaN   \n",
       "  https://www.ratebeer.com/beer/21st-amendment--f...    NaN    NaN    NaN   \n",
       "  https://www.ratebeer.com/beer/abc-brewing-henri...    NaN    NaN    NaN   \n",
       "  https://www.ratebeer.com/beer/against-the-grain...    NaN    NaN    NaN   \n",
       "  https://www.ratebeer.com/beer/against-the-grain...    NaN    NaN    NaN   \n",
       "\n",
       "0                                                    ...   992  9947  995  \\\n",
       "  1                                                  ...                    \n",
       "2 https://www.ratebeer.com/beer/10-barrel--blueja... ...   NaN   3.7  NaN   \n",
       "  https://www.ratebeer.com/beer/21st-amendment--f... ...   NaN   3.9  NaN   \n",
       "  https://www.ratebeer.com/beer/abc-brewing-henri... ...   NaN   NaN  NaN   \n",
       "  https://www.ratebeer.com/beer/against-the-grain... ...   NaN   NaN  NaN   \n",
       "  https://www.ratebeer.com/beer/against-the-grain... ...   NaN   NaN  NaN   \n",
       "\n",
       "0                                                     996  9966  9967  9969  \\\n",
       "  1                                                                           \n",
       "2 https://www.ratebeer.com/beer/10-barrel--blueja...  NaN   NaN   NaN   NaN   \n",
       "  https://www.ratebeer.com/beer/21st-amendment--f...  NaN   NaN   NaN   NaN   \n",
       "  https://www.ratebeer.com/beer/abc-brewing-henri...  NaN   NaN   NaN   NaN   \n",
       "  https://www.ratebeer.com/beer/against-the-grain...  NaN   NaN   NaN   NaN   \n",
       "  https://www.ratebeer.com/beer/against-the-grain...  NaN   NaN   NaN   NaN   \n",
       "\n",
       "0                                                     997  9982  999  \n",
       "  1                                                                   \n",
       "2 https://www.ratebeer.com/beer/10-barrel--blueja...  NaN   2.7  NaN  \n",
       "  https://www.ratebeer.com/beer/21st-amendment--f...  NaN   3.6  NaN  \n",
       "  https://www.ratebeer.com/beer/abc-brewing-henri...  NaN   NaN  NaN  \n",
       "  https://www.ratebeer.com/beer/against-the-grain...  NaN   NaN  NaN  \n",
       "  https://www.ratebeer.com/beer/against-the-grain...  NaN   NaN  NaN  \n",
       "\n",
       "[5 rows x 4511 columns]"
      ]
     },
     "execution_count": 32,
     "metadata": {},
     "output_type": "execute_result"
    }
   ],
   "source": [
    "df_wide.head()"
   ]
  },
  {
   "cell_type": "code",
   "execution_count": 7,
   "metadata": {
    "collapsed": false
   },
   "outputs": [
    {
     "data": {
      "text/plain": [
       "(4511, 13004)"
      ]
     },
     "execution_count": 7,
     "metadata": {},
     "output_type": "execute_result"
    }
   ],
   "source": [
    "df_wide = pd.pivot_table(df, values=[2],\n",
    "        index=[1], columns=[0], aggfunc=np.sum)\n",
    "        \n",
    "df_wide.shape"
   ]
  },
  {
   "cell_type": "code",
   "execution_count": 8,
   "metadata": {
    "collapsed": false
   },
   "outputs": [],
   "source": [
    "df_wide = df_wide.T"
   ]
  },
  {
   "cell_type": "code",
   "execution_count": 17,
   "metadata": {
    "collapsed": false
   },
   "outputs": [],
   "source": [
    "df_wide.to_csv('adding_averages_2.csv')"
   ]
  },
  {
   "cell_type": "code",
   "execution_count": 54,
   "metadata": {
    "collapsed": true
   },
   "outputs": [],
   "source": [
    "j = json.dumps(means)"
   ]
  },
  {
   "cell_type": "code",
   "execution_count": 55,
   "metadata": {
    "collapsed": true
   },
   "outputs": [],
   "source": [
    "f = open('df_means.json','w')\n",
    "f.write(j)\n",
    "f.close()"
   ]
  },
  {
   "cell_type": "code",
   "execution_count": 2,
   "metadata": {
    "collapsed": true
   },
   "outputs": [],
   "source": [
    "f = open('df_means.json')\n",
    "means = json.loads(f.read())\n",
    "f.close()"
   ]
  },
  {
   "cell_type": "code",
   "execution_count": 6,
   "metadata": {
    "collapsed": true
   },
   "outputs": [],
   "source": [
    "df_wide = pd.read_csv('adding_averages.csv')"
   ]
  },
  {
   "cell_type": "code",
   "execution_count": 9,
   "metadata": {
    "collapsed": false
   },
   "outputs": [
    {
     "data": {
      "text/plain": [
       "Index(['1', '10', '100', '1000', '1001', '1002', '10021', '10022', '10023',\n",
       "       '10024',\n",
       "       ...\n",
       "       '992', '9947', '995', '996', '9966', '9967', '9969', '997', '9982',\n",
       "       '999'],\n",
       "      dtype='object', name=0, length=4511)"
      ]
     },
     "execution_count": 9,
     "metadata": {},
     "output_type": "execute_result"
    }
   ],
   "source": [
    "df_wide.columns"
   ]
  },
  {
   "cell_type": "markdown",
   "metadata": {},
   "source": [
    "index 7604"
   ]
  },
  {
   "cell_type": "code",
   "execution_count": 15,
   "metadata": {
    "collapsed": false
   },
   "outputs": [
    {
     "data": {
      "text/plain": [
       "'https://www.ratebeer.com/beer/mikkeller-kihoskh-brett-session-ipa/338141/'"
      ]
     },
     "execution_count": 15,
     "metadata": {},
     "output_type": "execute_result"
    }
   ],
   "source": [
    "d"
   ]
  },
  {
   "cell_type": "code",
   "execution_count": 16,
   "metadata": {
    "collapsed": false
   },
   "outputs": [
    {
     "data": {
      "text/plain": [
       "7604"
      ]
     },
     "execution_count": 16,
     "metadata": {},
     "output_type": "execute_result"
    }
   ],
   "source": [
    "list(df_wide['1'].unique()).index(d)"
   ]
  },
  {
   "cell_type": "code",
   "execution_count": 13,
   "metadata": {
    "collapsed": false,
    "scrolled": true
   },
   "outputs": [
    {
     "ename": "KeyboardInterrupt",
     "evalue": "",
     "output_type": "error",
     "traceback": [
      "\u001b[0;31m---------------------------------------------------------------------------\u001b[0m",
      "\u001b[0;31mKeyboardInterrupt\u001b[0m                         Traceback (most recent call last)",
      "\u001b[0;32m<ipython-input-13-90e4879daa85>\u001b[0m in \u001b[0;36m<module>\u001b[0;34m()\u001b[0m\n\u001b[1;32m      1\u001b[0m \u001b[0;32mfor\u001b[0m \u001b[0md\u001b[0m \u001b[0;32min\u001b[0m \u001b[0mdf_wide\u001b[0m\u001b[0;34m[\u001b[0m\u001b[0;34m'1'\u001b[0m\u001b[0;34m]\u001b[0m\u001b[0;34m.\u001b[0m\u001b[0munique\u001b[0m\u001b[0;34m(\u001b[0m\u001b[0;34m)\u001b[0m\u001b[0;34m[\u001b[0m\u001b[0;36m2176\u001b[0m\u001b[0;34m:\u001b[0m\u001b[0;34m]\u001b[0m\u001b[0;34m:\u001b[0m\u001b[0;34m\u001b[0m\u001b[0m\n\u001b[0;32m----> 2\u001b[0;31m     \u001b[0mdf_wide\u001b[0m\u001b[0;34m[\u001b[0m\u001b[0mdf_wide\u001b[0m\u001b[0;34m[\u001b[0m\u001b[0;34m'1'\u001b[0m\u001b[0;34m]\u001b[0m\u001b[0;34m==\u001b[0m\u001b[0md\u001b[0m\u001b[0;34m]\u001b[0m \u001b[0;34m=\u001b[0m \u001b[0mdf_wide\u001b[0m\u001b[0;34m[\u001b[0m\u001b[0mdf_wide\u001b[0m\u001b[0;34m[\u001b[0m\u001b[0;34m'1'\u001b[0m\u001b[0;34m]\u001b[0m\u001b[0;34m==\u001b[0m\u001b[0md\u001b[0m\u001b[0;34m]\u001b[0m\u001b[0;34m.\u001b[0m\u001b[0mfillna\u001b[0m\u001b[0;34m(\u001b[0m\u001b[0mmeans\u001b[0m\u001b[0;34m[\u001b[0m\u001b[0md\u001b[0m\u001b[0;34m]\u001b[0m\u001b[0;34m)\u001b[0m\u001b[0;34m\u001b[0m\u001b[0m\n\u001b[0m",
      "\u001b[0;32m/Users/nickybangs/anaconda3/lib/python3.5/site-packages/pandas/core/frame.py\u001b[0m in \u001b[0;36m__setitem__\u001b[0;34m(self, key, value)\u001b[0m\n\u001b[1;32m   2350\u001b[0m \u001b[0;34m\u001b[0m\u001b[0m\n\u001b[1;32m   2351\u001b[0m         \u001b[0;32mif\u001b[0m \u001b[0misinstance\u001b[0m\u001b[0;34m(\u001b[0m\u001b[0mkey\u001b[0m\u001b[0;34m,\u001b[0m \u001b[0;34m(\u001b[0m\u001b[0mSeries\u001b[0m\u001b[0;34m,\u001b[0m \u001b[0mnp\u001b[0m\u001b[0;34m.\u001b[0m\u001b[0mndarray\u001b[0m\u001b[0;34m,\u001b[0m \u001b[0mlist\u001b[0m\u001b[0;34m,\u001b[0m \u001b[0mIndex\u001b[0m\u001b[0;34m)\u001b[0m\u001b[0;34m)\u001b[0m\u001b[0;34m:\u001b[0m\u001b[0;34m\u001b[0m\u001b[0m\n\u001b[0;32m-> 2352\u001b[0;31m             \u001b[0mself\u001b[0m\u001b[0;34m.\u001b[0m\u001b[0m_setitem_array\u001b[0m\u001b[0;34m(\u001b[0m\u001b[0mkey\u001b[0m\u001b[0;34m,\u001b[0m \u001b[0mvalue\u001b[0m\u001b[0;34m)\u001b[0m\u001b[0;34m\u001b[0m\u001b[0m\n\u001b[0m\u001b[1;32m   2353\u001b[0m         \u001b[0;32melif\u001b[0m \u001b[0misinstance\u001b[0m\u001b[0;34m(\u001b[0m\u001b[0mkey\u001b[0m\u001b[0;34m,\u001b[0m \u001b[0mDataFrame\u001b[0m\u001b[0;34m)\u001b[0m\u001b[0;34m:\u001b[0m\u001b[0;34m\u001b[0m\u001b[0m\n\u001b[1;32m   2354\u001b[0m             \u001b[0mself\u001b[0m\u001b[0;34m.\u001b[0m\u001b[0m_setitem_frame\u001b[0m\u001b[0;34m(\u001b[0m\u001b[0mkey\u001b[0m\u001b[0;34m,\u001b[0m \u001b[0mvalue\u001b[0m\u001b[0;34m)\u001b[0m\u001b[0;34m\u001b[0m\u001b[0m\n",
      "\u001b[0;32m/Users/nickybangs/anaconda3/lib/python3.5/site-packages/pandas/core/frame.py\u001b[0m in \u001b[0;36m_setitem_array\u001b[0;34m(self, key, value)\u001b[0m\n\u001b[1;32m   2370\u001b[0m             \u001b[0mindexer\u001b[0m \u001b[0;34m=\u001b[0m \u001b[0mkey\u001b[0m\u001b[0;34m.\u001b[0m\u001b[0mnonzero\u001b[0m\u001b[0;34m(\u001b[0m\u001b[0;34m)\u001b[0m\u001b[0;34m[\u001b[0m\u001b[0;36m0\u001b[0m\u001b[0;34m]\u001b[0m\u001b[0;34m\u001b[0m\u001b[0m\n\u001b[1;32m   2371\u001b[0m             \u001b[0mself\u001b[0m\u001b[0;34m.\u001b[0m\u001b[0m_check_setitem_copy\u001b[0m\u001b[0;34m(\u001b[0m\u001b[0;34m)\u001b[0m\u001b[0;34m\u001b[0m\u001b[0m\n\u001b[0;32m-> 2372\u001b[0;31m             \u001b[0mself\u001b[0m\u001b[0;34m.\u001b[0m\u001b[0mix\u001b[0m\u001b[0;34m.\u001b[0m\u001b[0m_setitem_with_indexer\u001b[0m\u001b[0;34m(\u001b[0m\u001b[0mindexer\u001b[0m\u001b[0;34m,\u001b[0m \u001b[0mvalue\u001b[0m\u001b[0;34m)\u001b[0m\u001b[0;34m\u001b[0m\u001b[0m\n\u001b[0m\u001b[1;32m   2373\u001b[0m         \u001b[0;32melse\u001b[0m\u001b[0;34m:\u001b[0m\u001b[0;34m\u001b[0m\u001b[0m\n\u001b[1;32m   2374\u001b[0m             \u001b[0;32mif\u001b[0m \u001b[0misinstance\u001b[0m\u001b[0;34m(\u001b[0m\u001b[0mvalue\u001b[0m\u001b[0;34m,\u001b[0m \u001b[0mDataFrame\u001b[0m\u001b[0;34m)\u001b[0m\u001b[0;34m:\u001b[0m\u001b[0;34m\u001b[0m\u001b[0m\n",
      "\u001b[0;32m/Users/nickybangs/anaconda3/lib/python3.5/site-packages/pandas/core/indexing.py\u001b[0m in \u001b[0;36m_setitem_with_indexer\u001b[0;34m(self, indexer, value)\u001b[0m\n\u001b[1;32m    500\u001b[0m                             \u001b[0mv\u001b[0m \u001b[0;34m=\u001b[0m \u001b[0mnp\u001b[0m\u001b[0;34m.\u001b[0m\u001b[0mnan\u001b[0m\u001b[0;34m\u001b[0m\u001b[0m\n\u001b[1;32m    501\u001b[0m \u001b[0;34m\u001b[0m\u001b[0m\n\u001b[0;32m--> 502\u001b[0;31m                         \u001b[0msetter\u001b[0m\u001b[0;34m(\u001b[0m\u001b[0mitem\u001b[0m\u001b[0;34m,\u001b[0m \u001b[0mv\u001b[0m\u001b[0;34m)\u001b[0m\u001b[0;34m\u001b[0m\u001b[0m\n\u001b[0m\u001b[1;32m    503\u001b[0m \u001b[0;34m\u001b[0m\u001b[0m\n\u001b[1;32m    504\u001b[0m                 \u001b[0;31m# we have an equal len ndarray/convertible to our labels\u001b[0m\u001b[0;34m\u001b[0m\u001b[0;34m\u001b[0m\u001b[0m\n",
      "\u001b[0;32m/Users/nickybangs/anaconda3/lib/python3.5/site-packages/pandas/core/indexing.py\u001b[0m in \u001b[0;36msetter\u001b[0;34m(item, v)\u001b[0m\n\u001b[1;32m    463\u001b[0m \u001b[0;34m\u001b[0m\u001b[0m\n\u001b[1;32m    464\u001b[0m                 \u001b[0;31m# reset the sliced object if unique\u001b[0m\u001b[0;34m\u001b[0m\u001b[0;34m\u001b[0m\u001b[0m\n\u001b[0;32m--> 465\u001b[0;31m                 \u001b[0mself\u001b[0m\u001b[0;34m.\u001b[0m\u001b[0mobj\u001b[0m\u001b[0;34m[\u001b[0m\u001b[0mitem\u001b[0m\u001b[0;34m]\u001b[0m \u001b[0;34m=\u001b[0m \u001b[0ms\u001b[0m\u001b[0;34m\u001b[0m\u001b[0m\n\u001b[0m\u001b[1;32m    466\u001b[0m \u001b[0;34m\u001b[0m\u001b[0m\n\u001b[1;32m    467\u001b[0m             \u001b[0;32mdef\u001b[0m \u001b[0mcan_do_equal_len\u001b[0m\u001b[0;34m(\u001b[0m\u001b[0;34m)\u001b[0m\u001b[0;34m:\u001b[0m\u001b[0;34m\u001b[0m\u001b[0m\n",
      "\u001b[0;32m/Users/nickybangs/anaconda3/lib/python3.5/site-packages/pandas/core/frame.py\u001b[0m in \u001b[0;36m__setitem__\u001b[0;34m(self, key, value)\u001b[0m\n\u001b[1;32m   2355\u001b[0m         \u001b[0;32melse\u001b[0m\u001b[0;34m:\u001b[0m\u001b[0;34m\u001b[0m\u001b[0m\n\u001b[1;32m   2356\u001b[0m             \u001b[0;31m# set column\u001b[0m\u001b[0;34m\u001b[0m\u001b[0;34m\u001b[0m\u001b[0m\n\u001b[0;32m-> 2357\u001b[0;31m             \u001b[0mself\u001b[0m\u001b[0;34m.\u001b[0m\u001b[0m_set_item\u001b[0m\u001b[0;34m(\u001b[0m\u001b[0mkey\u001b[0m\u001b[0;34m,\u001b[0m \u001b[0mvalue\u001b[0m\u001b[0;34m)\u001b[0m\u001b[0;34m\u001b[0m\u001b[0m\n\u001b[0m\u001b[1;32m   2358\u001b[0m \u001b[0;34m\u001b[0m\u001b[0m\n\u001b[1;32m   2359\u001b[0m     \u001b[0;32mdef\u001b[0m \u001b[0m_setitem_slice\u001b[0m\u001b[0;34m(\u001b[0m\u001b[0mself\u001b[0m\u001b[0;34m,\u001b[0m \u001b[0mkey\u001b[0m\u001b[0;34m,\u001b[0m \u001b[0mvalue\u001b[0m\u001b[0;34m)\u001b[0m\u001b[0;34m:\u001b[0m\u001b[0;34m\u001b[0m\u001b[0m\n",
      "\u001b[0;32m/Users/nickybangs/anaconda3/lib/python3.5/site-packages/pandas/core/frame.py\u001b[0m in \u001b[0;36m_set_item\u001b[0;34m(self, key, value)\u001b[0m\n\u001b[1;32m   2422\u001b[0m         \u001b[0mself\u001b[0m\u001b[0;34m.\u001b[0m\u001b[0m_ensure_valid_index\u001b[0m\u001b[0;34m(\u001b[0m\u001b[0mvalue\u001b[0m\u001b[0;34m)\u001b[0m\u001b[0;34m\u001b[0m\u001b[0m\n\u001b[1;32m   2423\u001b[0m         \u001b[0mvalue\u001b[0m \u001b[0;34m=\u001b[0m \u001b[0mself\u001b[0m\u001b[0;34m.\u001b[0m\u001b[0m_sanitize_column\u001b[0m\u001b[0;34m(\u001b[0m\u001b[0mkey\u001b[0m\u001b[0;34m,\u001b[0m \u001b[0mvalue\u001b[0m\u001b[0;34m)\u001b[0m\u001b[0;34m\u001b[0m\u001b[0m\n\u001b[0;32m-> 2424\u001b[0;31m         \u001b[0mNDFrame\u001b[0m\u001b[0;34m.\u001b[0m\u001b[0m_set_item\u001b[0m\u001b[0;34m(\u001b[0m\u001b[0mself\u001b[0m\u001b[0;34m,\u001b[0m \u001b[0mkey\u001b[0m\u001b[0;34m,\u001b[0m \u001b[0mvalue\u001b[0m\u001b[0;34m)\u001b[0m\u001b[0;34m\u001b[0m\u001b[0m\n\u001b[0m\u001b[1;32m   2425\u001b[0m \u001b[0;34m\u001b[0m\u001b[0m\n\u001b[1;32m   2426\u001b[0m         \u001b[0;31m# check if we are modifying a copy\u001b[0m\u001b[0;34m\u001b[0m\u001b[0;34m\u001b[0m\u001b[0m\n",
      "\u001b[0;32m/Users/nickybangs/anaconda3/lib/python3.5/site-packages/pandas/core/generic.py\u001b[0m in \u001b[0;36m_set_item\u001b[0;34m(self, key, value)\u001b[0m\n\u001b[1;32m   1462\u001b[0m \u001b[0;34m\u001b[0m\u001b[0m\n\u001b[1;32m   1463\u001b[0m     \u001b[0;32mdef\u001b[0m \u001b[0m_set_item\u001b[0m\u001b[0;34m(\u001b[0m\u001b[0mself\u001b[0m\u001b[0;34m,\u001b[0m \u001b[0mkey\u001b[0m\u001b[0;34m,\u001b[0m \u001b[0mvalue\u001b[0m\u001b[0;34m)\u001b[0m\u001b[0;34m:\u001b[0m\u001b[0;34m\u001b[0m\u001b[0m\n\u001b[0;32m-> 1464\u001b[0;31m         \u001b[0mself\u001b[0m\u001b[0;34m.\u001b[0m\u001b[0m_data\u001b[0m\u001b[0;34m.\u001b[0m\u001b[0mset\u001b[0m\u001b[0;34m(\u001b[0m\u001b[0mkey\u001b[0m\u001b[0;34m,\u001b[0m \u001b[0mvalue\u001b[0m\u001b[0;34m)\u001b[0m\u001b[0;34m\u001b[0m\u001b[0m\n\u001b[0m\u001b[1;32m   1465\u001b[0m         \u001b[0mself\u001b[0m\u001b[0;34m.\u001b[0m\u001b[0m_clear_item_cache\u001b[0m\u001b[0;34m(\u001b[0m\u001b[0;34m)\u001b[0m\u001b[0;34m\u001b[0m\u001b[0m\n\u001b[1;32m   1466\u001b[0m \u001b[0;34m\u001b[0m\u001b[0m\n",
      "\u001b[0;32m/Users/nickybangs/anaconda3/lib/python3.5/site-packages/pandas/core/internals.py\u001b[0m in \u001b[0;36mset\u001b[0;34m(self, item, value, check)\u001b[0m\n\u001b[1;32m   3390\u001b[0m         \u001b[0;31m#        can prob also fix the various if tests for sparse/categorical\u001b[0m\u001b[0;34m\u001b[0m\u001b[0;34m\u001b[0m\u001b[0m\n\u001b[1;32m   3391\u001b[0m \u001b[0;34m\u001b[0m\u001b[0m\n\u001b[0;32m-> 3392\u001b[0;31m         \u001b[0mvalue_is_extension_type\u001b[0m \u001b[0;34m=\u001b[0m \u001b[0mis_extension_type\u001b[0m\u001b[0;34m(\u001b[0m\u001b[0mvalue\u001b[0m\u001b[0;34m)\u001b[0m\u001b[0;34m\u001b[0m\u001b[0m\n\u001b[0m\u001b[1;32m   3393\u001b[0m \u001b[0;34m\u001b[0m\u001b[0m\n\u001b[1;32m   3394\u001b[0m         \u001b[0;31m# categorical/spares/datetimetz\u001b[0m\u001b[0;34m\u001b[0m\u001b[0;34m\u001b[0m\u001b[0m\n",
      "\u001b[0;32m/Users/nickybangs/anaconda3/lib/python3.5/site-packages/pandas/core/common.py\u001b[0m in \u001b[0;36mis_extension_type\u001b[0;34m(value)\u001b[0m\n\u001b[1;32m   1720\u001b[0m     \u001b[0mthese\u001b[0m \u001b[0mare\u001b[0m \u001b[0minternal\u001b[0m \u001b[0mklasses\u001b[0m \u001b[0mthat\u001b[0m \u001b[0mwe\u001b[0m \u001b[0mrepresent\u001b[0m \u001b[0;34m(\u001b[0m\u001b[0;32mand\u001b[0m \u001b[0mdon\u001b[0m\u001b[0;31m'\u001b[0m\u001b[0mt\u001b[0m \u001b[0muse\u001b[0m \u001b[0ma\u001b[0m \u001b[0mnp\u001b[0m\u001b[0;34m.\u001b[0m\u001b[0marray\u001b[0m\u001b[0;34m)\u001b[0m\u001b[0;34m\u001b[0m\u001b[0m\n\u001b[1;32m   1721\u001b[0m     \"\"\"\n\u001b[0;32m-> 1722\u001b[0;31m     \u001b[0;32mif\u001b[0m \u001b[0mis_categorical\u001b[0m\u001b[0;34m(\u001b[0m\u001b[0mvalue\u001b[0m\u001b[0;34m)\u001b[0m\u001b[0;34m:\u001b[0m\u001b[0;34m\u001b[0m\u001b[0m\n\u001b[0m\u001b[1;32m   1723\u001b[0m         \u001b[0;32mreturn\u001b[0m \u001b[0;32mTrue\u001b[0m\u001b[0;34m\u001b[0m\u001b[0m\n\u001b[1;32m   1724\u001b[0m     \u001b[0;32melif\u001b[0m \u001b[0mis_sparse\u001b[0m\u001b[0;34m(\u001b[0m\u001b[0mvalue\u001b[0m\u001b[0;34m)\u001b[0m\u001b[0;34m:\u001b[0m\u001b[0;34m\u001b[0m\u001b[0m\n",
      "\u001b[0;32m/Users/nickybangs/anaconda3/lib/python3.5/site-packages/pandas/core/common.py\u001b[0m in \u001b[0;36mis_categorical\u001b[0;34m(array)\u001b[0m\n\u001b[1;32m   1731\u001b[0m \u001b[0;32mdef\u001b[0m \u001b[0mis_categorical\u001b[0m\u001b[0;34m(\u001b[0m\u001b[0marray\u001b[0m\u001b[0;34m)\u001b[0m\u001b[0;34m:\u001b[0m\u001b[0;34m\u001b[0m\u001b[0m\n\u001b[1;32m   1732\u001b[0m     \u001b[0;34m\"\"\" return if we are a categorical possibility \"\"\"\u001b[0m\u001b[0;34m\u001b[0m\u001b[0m\n\u001b[0;32m-> 1733\u001b[0;31m     \u001b[0;32mreturn\u001b[0m \u001b[0misinstance\u001b[0m\u001b[0;34m(\u001b[0m\u001b[0marray\u001b[0m\u001b[0;34m,\u001b[0m \u001b[0mgt\u001b[0m\u001b[0;34m.\u001b[0m\u001b[0mABCCategorical\u001b[0m\u001b[0;34m)\u001b[0m \u001b[0;32mor\u001b[0m \u001b[0mis_categorical_dtype\u001b[0m\u001b[0;34m(\u001b[0m\u001b[0marray\u001b[0m\u001b[0;34m)\u001b[0m\u001b[0;34m\u001b[0m\u001b[0m\n\u001b[0m\u001b[1;32m   1734\u001b[0m \u001b[0;34m\u001b[0m\u001b[0m\n\u001b[1;32m   1735\u001b[0m \u001b[0;34m\u001b[0m\u001b[0m\n",
      "\u001b[0;32m/Users/nickybangs/anaconda3/lib/python3.5/site-packages/pandas/types/generic.py\u001b[0m in \u001b[0;36m_check\u001b[0;34m(cls, inst)\u001b[0m\n\u001b[1;32m      7\u001b[0m     \u001b[0;34m@\u001b[0m\u001b[0mclassmethod\u001b[0m\u001b[0;34m\u001b[0m\u001b[0m\n\u001b[1;32m      8\u001b[0m     \u001b[0;32mdef\u001b[0m \u001b[0m_check\u001b[0m\u001b[0;34m(\u001b[0m\u001b[0mcls\u001b[0m\u001b[0;34m,\u001b[0m \u001b[0minst\u001b[0m\u001b[0;34m)\u001b[0m\u001b[0;34m:\u001b[0m\u001b[0;34m\u001b[0m\u001b[0m\n\u001b[0;32m----> 9\u001b[0;31m         \u001b[0;32mreturn\u001b[0m \u001b[0mgetattr\u001b[0m\u001b[0;34m(\u001b[0m\u001b[0minst\u001b[0m\u001b[0;34m,\u001b[0m \u001b[0mattr\u001b[0m\u001b[0;34m,\u001b[0m \u001b[0;34m'_typ'\u001b[0m\u001b[0;34m)\u001b[0m \u001b[0;32min\u001b[0m \u001b[0mcomp\u001b[0m\u001b[0;34m\u001b[0m\u001b[0m\n\u001b[0m\u001b[1;32m     10\u001b[0m \u001b[0;34m\u001b[0m\u001b[0m\n\u001b[1;32m     11\u001b[0m     \u001b[0mdct\u001b[0m \u001b[0;34m=\u001b[0m \u001b[0mdict\u001b[0m\u001b[0;34m(\u001b[0m\u001b[0m__instancecheck__\u001b[0m\u001b[0;34m=\u001b[0m\u001b[0m_check\u001b[0m\u001b[0;34m,\u001b[0m \u001b[0m__subclasscheck__\u001b[0m\u001b[0;34m=\u001b[0m\u001b[0m_check\u001b[0m\u001b[0;34m)\u001b[0m\u001b[0;34m\u001b[0m\u001b[0m\n",
      "\u001b[0;31mKeyboardInterrupt\u001b[0m: "
     ]
    }
   ],
   "source": [
    "for d in df_wide['1'].unique()[2176:]:\n",
    "    df_wide[df_wide['1']==d] = df_wide[df_wide['1']==d].fillna(means[d])"
   ]
  },
  {
   "cell_type": "code",
   "execution_count": 11,
   "metadata": {
    "collapsed": false,
    "scrolled": true
   },
   "outputs": [
    {
     "data": {
      "text/html": [
       "<div>\n",
       "<table border=\"1\" class=\"dataframe\">\n",
       "  <thead>\n",
       "    <tr style=\"text-align: right;\">\n",
       "      <th></th>\n",
       "      <th></th>\n",
       "      <th>1</th>\n",
       "      <th>10</th>\n",
       "      <th>100</th>\n",
       "      <th>1000</th>\n",
       "      <th>1001</th>\n",
       "      <th>1002</th>\n",
       "      <th>10021</th>\n",
       "      <th>10022</th>\n",
       "      <th>10023</th>\n",
       "      <th>10024</th>\n",
       "      <th>...</th>\n",
       "      <th>992</th>\n",
       "      <th>9947</th>\n",
       "      <th>995</th>\n",
       "      <th>996</th>\n",
       "      <th>9966</th>\n",
       "      <th>9967</th>\n",
       "      <th>9969</th>\n",
       "      <th>997</th>\n",
       "      <th>9982</th>\n",
       "      <th>999</th>\n",
       "    </tr>\n",
       "    <tr>\n",
       "      <th></th>\n",
       "      <th>1</th>\n",
       "      <th></th>\n",
       "      <th></th>\n",
       "      <th></th>\n",
       "      <th></th>\n",
       "      <th></th>\n",
       "      <th></th>\n",
       "      <th></th>\n",
       "      <th></th>\n",
       "      <th></th>\n",
       "      <th></th>\n",
       "      <th></th>\n",
       "      <th></th>\n",
       "      <th></th>\n",
       "      <th></th>\n",
       "      <th></th>\n",
       "      <th></th>\n",
       "      <th></th>\n",
       "      <th></th>\n",
       "      <th></th>\n",
       "      <th></th>\n",
       "      <th></th>\n",
       "    </tr>\n",
       "  </thead>\n",
       "  <tbody>\n",
       "    <tr>\n",
       "      <th rowspan=\"5\" valign=\"top\">2</th>\n",
       "      <th>https://www.ratebeer.com/beer/10-barrel--bluejacket--stone-suede-imperial-porter/231482/</th>\n",
       "      <td>NaN</td>\n",
       "      <td>NaN</td>\n",
       "      <td>NaN</td>\n",
       "      <td>NaN</td>\n",
       "      <td>NaN</td>\n",
       "      <td>NaN</td>\n",
       "      <td>NaN</td>\n",
       "      <td>NaN</td>\n",
       "      <td>NaN</td>\n",
       "      <td>NaN</td>\n",
       "      <td>...</td>\n",
       "      <td>NaN</td>\n",
       "      <td>3.7</td>\n",
       "      <td>NaN</td>\n",
       "      <td>NaN</td>\n",
       "      <td>NaN</td>\n",
       "      <td>NaN</td>\n",
       "      <td>NaN</td>\n",
       "      <td>NaN</td>\n",
       "      <td>2.7</td>\n",
       "      <td>NaN</td>\n",
       "    </tr>\n",
       "    <tr>\n",
       "      <th>https://www.ratebeer.com/beer/21st-amendment--firestone-walker--stone-el-camino-unreal-black-ale/119723/</th>\n",
       "      <td>NaN</td>\n",
       "      <td>4.4</td>\n",
       "      <td>NaN</td>\n",
       "      <td>NaN</td>\n",
       "      <td>NaN</td>\n",
       "      <td>3.5</td>\n",
       "      <td>NaN</td>\n",
       "      <td>NaN</td>\n",
       "      <td>NaN</td>\n",
       "      <td>NaN</td>\n",
       "      <td>...</td>\n",
       "      <td>NaN</td>\n",
       "      <td>3.9</td>\n",
       "      <td>NaN</td>\n",
       "      <td>NaN</td>\n",
       "      <td>NaN</td>\n",
       "      <td>NaN</td>\n",
       "      <td>NaN</td>\n",
       "      <td>NaN</td>\n",
       "      <td>3.6</td>\n",
       "      <td>NaN</td>\n",
       "    </tr>\n",
       "    <tr>\n",
       "      <th>https://www.ratebeer.com/beer/abc-brewing-henrik-imperial-amber/168983/</th>\n",
       "      <td>NaN</td>\n",
       "      <td>NaN</td>\n",
       "      <td>NaN</td>\n",
       "      <td>NaN</td>\n",
       "      <td>NaN</td>\n",
       "      <td>NaN</td>\n",
       "      <td>NaN</td>\n",
       "      <td>NaN</td>\n",
       "      <td>NaN</td>\n",
       "      <td>NaN</td>\n",
       "      <td>...</td>\n",
       "      <td>NaN</td>\n",
       "      <td>NaN</td>\n",
       "      <td>NaN</td>\n",
       "      <td>NaN</td>\n",
       "      <td>NaN</td>\n",
       "      <td>NaN</td>\n",
       "      <td>NaN</td>\n",
       "      <td>NaN</td>\n",
       "      <td>NaN</td>\n",
       "      <td>NaN</td>\n",
       "    </tr>\n",
       "    <tr>\n",
       "      <th>https://www.ratebeer.com/beer/against-the-grain--18th-street-multi-use-warehouse/415774/</th>\n",
       "      <td>NaN</td>\n",
       "      <td>NaN</td>\n",
       "      <td>NaN</td>\n",
       "      <td>NaN</td>\n",
       "      <td>NaN</td>\n",
       "      <td>NaN</td>\n",
       "      <td>NaN</td>\n",
       "      <td>NaN</td>\n",
       "      <td>NaN</td>\n",
       "      <td>NaN</td>\n",
       "      <td>...</td>\n",
       "      <td>NaN</td>\n",
       "      <td>NaN</td>\n",
       "      <td>NaN</td>\n",
       "      <td>NaN</td>\n",
       "      <td>NaN</td>\n",
       "      <td>NaN</td>\n",
       "      <td>NaN</td>\n",
       "      <td>NaN</td>\n",
       "      <td>NaN</td>\n",
       "      <td>NaN</td>\n",
       "    </tr>\n",
       "    <tr>\n",
       "      <th>https://www.ratebeer.com/beer/against-the-grain--akasha-hold-me-closer-thai-ny-danza/341797/</th>\n",
       "      <td>NaN</td>\n",
       "      <td>NaN</td>\n",
       "      <td>NaN</td>\n",
       "      <td>NaN</td>\n",
       "      <td>NaN</td>\n",
       "      <td>NaN</td>\n",
       "      <td>NaN</td>\n",
       "      <td>NaN</td>\n",
       "      <td>NaN</td>\n",
       "      <td>NaN</td>\n",
       "      <td>...</td>\n",
       "      <td>NaN</td>\n",
       "      <td>NaN</td>\n",
       "      <td>NaN</td>\n",
       "      <td>NaN</td>\n",
       "      <td>NaN</td>\n",
       "      <td>NaN</td>\n",
       "      <td>NaN</td>\n",
       "      <td>NaN</td>\n",
       "      <td>NaN</td>\n",
       "      <td>NaN</td>\n",
       "    </tr>\n",
       "  </tbody>\n",
       "</table>\n",
       "<p>5 rows × 4511 columns</p>\n",
       "</div>"
      ],
      "text/plain": [
       "0                                                      1   10  100  1000  \\\n",
       "  1                                                                        \n",
       "2 https://www.ratebeer.com/beer/10-barrel--blueja... NaN  NaN  NaN   NaN   \n",
       "  https://www.ratebeer.com/beer/21st-amendment--f... NaN  4.4  NaN   NaN   \n",
       "  https://www.ratebeer.com/beer/abc-brewing-henri... NaN  NaN  NaN   NaN   \n",
       "  https://www.ratebeer.com/beer/against-the-grain... NaN  NaN  NaN   NaN   \n",
       "  https://www.ratebeer.com/beer/against-the-grain... NaN  NaN  NaN   NaN   \n",
       "\n",
       "0                                                     1001  1002  10021  \\\n",
       "  1                                                                       \n",
       "2 https://www.ratebeer.com/beer/10-barrel--blueja...   NaN   NaN    NaN   \n",
       "  https://www.ratebeer.com/beer/21st-amendment--f...   NaN   3.5    NaN   \n",
       "  https://www.ratebeer.com/beer/abc-brewing-henri...   NaN   NaN    NaN   \n",
       "  https://www.ratebeer.com/beer/against-the-grain...   NaN   NaN    NaN   \n",
       "  https://www.ratebeer.com/beer/against-the-grain...   NaN   NaN    NaN   \n",
       "\n",
       "0                                                     10022  10023  10024  \\\n",
       "  1                                                                         \n",
       "2 https://www.ratebeer.com/beer/10-barrel--blueja...    NaN    NaN    NaN   \n",
       "  https://www.ratebeer.com/beer/21st-amendment--f...    NaN    NaN    NaN   \n",
       "  https://www.ratebeer.com/beer/abc-brewing-henri...    NaN    NaN    NaN   \n",
       "  https://www.ratebeer.com/beer/against-the-grain...    NaN    NaN    NaN   \n",
       "  https://www.ratebeer.com/beer/against-the-grain...    NaN    NaN    NaN   \n",
       "\n",
       "0                                                    ...   992  9947  995  \\\n",
       "  1                                                  ...                    \n",
       "2 https://www.ratebeer.com/beer/10-barrel--blueja... ...   NaN   3.7  NaN   \n",
       "  https://www.ratebeer.com/beer/21st-amendment--f... ...   NaN   3.9  NaN   \n",
       "  https://www.ratebeer.com/beer/abc-brewing-henri... ...   NaN   NaN  NaN   \n",
       "  https://www.ratebeer.com/beer/against-the-grain... ...   NaN   NaN  NaN   \n",
       "  https://www.ratebeer.com/beer/against-the-grain... ...   NaN   NaN  NaN   \n",
       "\n",
       "0                                                     996  9966  9967  9969  \\\n",
       "  1                                                                           \n",
       "2 https://www.ratebeer.com/beer/10-barrel--blueja...  NaN   NaN   NaN   NaN   \n",
       "  https://www.ratebeer.com/beer/21st-amendment--f...  NaN   NaN   NaN   NaN   \n",
       "  https://www.ratebeer.com/beer/abc-brewing-henri...  NaN   NaN   NaN   NaN   \n",
       "  https://www.ratebeer.com/beer/against-the-grain...  NaN   NaN   NaN   NaN   \n",
       "  https://www.ratebeer.com/beer/against-the-grain...  NaN   NaN   NaN   NaN   \n",
       "\n",
       "0                                                     997  9982  999  \n",
       "  1                                                                   \n",
       "2 https://www.ratebeer.com/beer/10-barrel--blueja...  NaN   2.7  NaN  \n",
       "  https://www.ratebeer.com/beer/21st-amendment--f...  NaN   3.6  NaN  \n",
       "  https://www.ratebeer.com/beer/abc-brewing-henri...  NaN   NaN  NaN  \n",
       "  https://www.ratebeer.com/beer/against-the-grain...  NaN   NaN  NaN  \n",
       "  https://www.ratebeer.com/beer/against-the-grain...  NaN   NaN  NaN  \n",
       "\n",
       "[5 rows x 4511 columns]"
      ]
     },
     "execution_count": 11,
     "metadata": {},
     "output_type": "execute_result"
    }
   ],
   "source": [
    "df_wide.head()"
   ]
  },
  {
   "cell_type": "code",
   "execution_count": 12,
   "metadata": {
    "collapsed": true
   },
   "outputs": [],
   "source": [
    "df_wide = df_wide.reset_index()"
   ]
  },
  {
   "cell_type": "code",
   "execution_count": 13,
   "metadata": {
    "collapsed": true
   },
   "outputs": [],
   "source": [
    "del df_wide['level_0']"
   ]
  },
  {
   "cell_type": "code",
   "execution_count": 16,
   "metadata": {
    "collapsed": false
   },
   "outputs": [],
   "source": [
    "df_wide = df_wide.fillna(0)"
   ]
  },
  {
   "cell_type": "code",
   "execution_count": 17,
   "metadata": {
    "collapsed": false
   },
   "outputs": [
    {
     "data": {
      "text/html": [
       "<div>\n",
       "<table border=\"1\" class=\"dataframe\">\n",
       "  <thead>\n",
       "    <tr style=\"text-align: right;\">\n",
       "      <th></th>\n",
       "      <th>1</th>\n",
       "      <th>1</th>\n",
       "      <th>10</th>\n",
       "      <th>100</th>\n",
       "      <th>1000</th>\n",
       "      <th>1001</th>\n",
       "      <th>1002</th>\n",
       "      <th>10021</th>\n",
       "      <th>10022</th>\n",
       "      <th>10023</th>\n",
       "      <th>...</th>\n",
       "      <th>992</th>\n",
       "      <th>9947</th>\n",
       "      <th>995</th>\n",
       "      <th>996</th>\n",
       "      <th>9966</th>\n",
       "      <th>9967</th>\n",
       "      <th>9969</th>\n",
       "      <th>997</th>\n",
       "      <th>9982</th>\n",
       "      <th>999</th>\n",
       "    </tr>\n",
       "  </thead>\n",
       "  <tbody>\n",
       "    <tr>\n",
       "      <th>0</th>\n",
       "      <td>https://www.ratebeer.com/beer/10-barrel--bluej...</td>\n",
       "      <td>0.0</td>\n",
       "      <td>0.0</td>\n",
       "      <td>0.0</td>\n",
       "      <td>0.0</td>\n",
       "      <td>0.0</td>\n",
       "      <td>0.0</td>\n",
       "      <td>0.0</td>\n",
       "      <td>0.0</td>\n",
       "      <td>0.0</td>\n",
       "      <td>...</td>\n",
       "      <td>0.0</td>\n",
       "      <td>3.7</td>\n",
       "      <td>0.0</td>\n",
       "      <td>0.0</td>\n",
       "      <td>0.0</td>\n",
       "      <td>0.0</td>\n",
       "      <td>0.0</td>\n",
       "      <td>0.0</td>\n",
       "      <td>2.7</td>\n",
       "      <td>0.0</td>\n",
       "    </tr>\n",
       "    <tr>\n",
       "      <th>1</th>\n",
       "      <td>https://www.ratebeer.com/beer/21st-amendment--...</td>\n",
       "      <td>0.0</td>\n",
       "      <td>4.4</td>\n",
       "      <td>0.0</td>\n",
       "      <td>0.0</td>\n",
       "      <td>0.0</td>\n",
       "      <td>3.5</td>\n",
       "      <td>0.0</td>\n",
       "      <td>0.0</td>\n",
       "      <td>0.0</td>\n",
       "      <td>...</td>\n",
       "      <td>0.0</td>\n",
       "      <td>3.9</td>\n",
       "      <td>0.0</td>\n",
       "      <td>0.0</td>\n",
       "      <td>0.0</td>\n",
       "      <td>0.0</td>\n",
       "      <td>0.0</td>\n",
       "      <td>0.0</td>\n",
       "      <td>3.6</td>\n",
       "      <td>0.0</td>\n",
       "    </tr>\n",
       "    <tr>\n",
       "      <th>2</th>\n",
       "      <td>https://www.ratebeer.com/beer/abc-brewing-henr...</td>\n",
       "      <td>0.0</td>\n",
       "      <td>0.0</td>\n",
       "      <td>0.0</td>\n",
       "      <td>0.0</td>\n",
       "      <td>0.0</td>\n",
       "      <td>0.0</td>\n",
       "      <td>0.0</td>\n",
       "      <td>0.0</td>\n",
       "      <td>0.0</td>\n",
       "      <td>...</td>\n",
       "      <td>0.0</td>\n",
       "      <td>0.0</td>\n",
       "      <td>0.0</td>\n",
       "      <td>0.0</td>\n",
       "      <td>0.0</td>\n",
       "      <td>0.0</td>\n",
       "      <td>0.0</td>\n",
       "      <td>0.0</td>\n",
       "      <td>0.0</td>\n",
       "      <td>0.0</td>\n",
       "    </tr>\n",
       "    <tr>\n",
       "      <th>3</th>\n",
       "      <td>https://www.ratebeer.com/beer/against-the-grai...</td>\n",
       "      <td>0.0</td>\n",
       "      <td>0.0</td>\n",
       "      <td>0.0</td>\n",
       "      <td>0.0</td>\n",
       "      <td>0.0</td>\n",
       "      <td>0.0</td>\n",
       "      <td>0.0</td>\n",
       "      <td>0.0</td>\n",
       "      <td>0.0</td>\n",
       "      <td>...</td>\n",
       "      <td>0.0</td>\n",
       "      <td>0.0</td>\n",
       "      <td>0.0</td>\n",
       "      <td>0.0</td>\n",
       "      <td>0.0</td>\n",
       "      <td>0.0</td>\n",
       "      <td>0.0</td>\n",
       "      <td>0.0</td>\n",
       "      <td>0.0</td>\n",
       "      <td>0.0</td>\n",
       "    </tr>\n",
       "    <tr>\n",
       "      <th>4</th>\n",
       "      <td>https://www.ratebeer.com/beer/against-the-grai...</td>\n",
       "      <td>0.0</td>\n",
       "      <td>0.0</td>\n",
       "      <td>0.0</td>\n",
       "      <td>0.0</td>\n",
       "      <td>0.0</td>\n",
       "      <td>0.0</td>\n",
       "      <td>0.0</td>\n",
       "      <td>0.0</td>\n",
       "      <td>0.0</td>\n",
       "      <td>...</td>\n",
       "      <td>0.0</td>\n",
       "      <td>0.0</td>\n",
       "      <td>0.0</td>\n",
       "      <td>0.0</td>\n",
       "      <td>0.0</td>\n",
       "      <td>0.0</td>\n",
       "      <td>0.0</td>\n",
       "      <td>0.0</td>\n",
       "      <td>0.0</td>\n",
       "      <td>0.0</td>\n",
       "    </tr>\n",
       "  </tbody>\n",
       "</table>\n",
       "<p>5 rows × 4512 columns</p>\n",
       "</div>"
      ],
      "text/plain": [
       "0                                                  1    1   10  100  1000  \\\n",
       "0  https://www.ratebeer.com/beer/10-barrel--bluej...  0.0  0.0  0.0   0.0   \n",
       "1  https://www.ratebeer.com/beer/21st-amendment--...  0.0  4.4  0.0   0.0   \n",
       "2  https://www.ratebeer.com/beer/abc-brewing-henr...  0.0  0.0  0.0   0.0   \n",
       "3  https://www.ratebeer.com/beer/against-the-grai...  0.0  0.0  0.0   0.0   \n",
       "4  https://www.ratebeer.com/beer/against-the-grai...  0.0  0.0  0.0   0.0   \n",
       "\n",
       "0  1001  1002  10021  10022  10023 ...   992  9947  995  996  9966  9967  \\\n",
       "0   0.0   0.0    0.0    0.0    0.0 ...   0.0   3.7  0.0  0.0   0.0   0.0   \n",
       "1   0.0   3.5    0.0    0.0    0.0 ...   0.0   3.9  0.0  0.0   0.0   0.0   \n",
       "2   0.0   0.0    0.0    0.0    0.0 ...   0.0   0.0  0.0  0.0   0.0   0.0   \n",
       "3   0.0   0.0    0.0    0.0    0.0 ...   0.0   0.0  0.0  0.0   0.0   0.0   \n",
       "4   0.0   0.0    0.0    0.0    0.0 ...   0.0   0.0  0.0  0.0   0.0   0.0   \n",
       "\n",
       "0  9969  997  9982  999  \n",
       "0   0.0  0.0   2.7  0.0  \n",
       "1   0.0  0.0   3.6  0.0  \n",
       "2   0.0  0.0   0.0  0.0  \n",
       "3   0.0  0.0   0.0  0.0  \n",
       "4   0.0  0.0   0.0  0.0  \n",
       "\n",
       "[5 rows x 4512 columns]"
      ]
     },
     "execution_count": 17,
     "metadata": {},
     "output_type": "execute_result"
    }
   ],
   "source": [
    "df_wide.head()"
   ]
  },
  {
   "cell_type": "code",
   "execution_count": null,
   "metadata": {
    "collapsed": false
   },
   "outputs": [],
   "source": [
    "for d in df_wide.columns[1:]:\n",
    "    df_wide[d] = df_wide[d].apply(float)"
   ]
  },
  {
   "cell_type": "code",
   "execution_count": null,
   "metadata": {
    "collapsed": false
   },
   "outputs": [],
   "source": [
    "df_wide.head()"
   ]
  },
  {
   "cell_type": "code",
   "execution_count": null,
   "metadata": {
    "collapsed": false
   },
   "outputs": [],
   "source": [
    "df_wide[df_wide.columns[1]].apply(float).mean()"
   ]
  },
  {
   "cell_type": "code",
   "execution_count": 18,
   "metadata": {
    "collapsed": true
   },
   "outputs": [],
   "source": [
    "from sklearn.metrics.pairwise import cosine_similarity\n",
    "from sklearn.metrics.pairwise import manhattan_distances\n",
    "from sklearn.metrics.pairwise import euclidean_distances"
   ]
  },
  {
   "cell_type": "code",
   "execution_count": 24,
   "metadata": {
    "collapsed": false
   },
   "outputs": [
    {
     "data": {
      "text/plain": [
       "array([[ 1.        ,  0.18986032,  0.05731339, ...,  0.06369161,\n",
       "         0.04556536,  0.02141478],\n",
       "       [ 0.18986032,  1.        ,  0.03807267, ...,  0.10071954,\n",
       "         0.        ,  0.05184895],\n",
       "       [ 0.05731339,  0.03807267,  1.        , ...,  0.06290908,\n",
       "         0.        ,  0.        ],\n",
       "       ..., \n",
       "       [ 0.06369161,  0.10071954,  0.06290908, ...,  1.        ,\n",
       "         0.        ,  0.06581821],\n",
       "       [ 0.04556536,  0.        ,  0.        , ...,  0.        ,\n",
       "         1.        ,  0.        ],\n",
       "       [ 0.02141478,  0.05184895,  0.        , ...,  0.06581821,\n",
       "         0.        ,  1.        ]])"
      ]
     },
     "execution_count": 24,
     "metadata": {},
     "output_type": "execute_result"
    }
   ],
   "source": [
    "dists = cosine_similarity(df_wide[df_wide.columns[1:]])\n",
    "dists"
   ]
  },
  {
   "cell_type": "code",
   "execution_count": 25,
   "metadata": {
    "collapsed": false
   },
   "outputs": [
    {
     "data": {
      "text/html": [
       "<div>\n",
       "<table border=\"1\" class=\"dataframe\">\n",
       "  <thead>\n",
       "    <tr style=\"text-align: right;\">\n",
       "      <th>1</th>\n",
       "      <th>https://www.ratebeer.com/beer/10-barrel--bluejacket--stone-suede-imperial-porter/231482/</th>\n",
       "      <th>https://www.ratebeer.com/beer/21st-amendment--firestone-walker--stone-el-camino-unreal-black-ale/119723/</th>\n",
       "      <th>https://www.ratebeer.com/beer/abc-brewing-henrik-imperial-amber/168983/</th>\n",
       "      <th>https://www.ratebeer.com/beer/against-the-grain--18th-street-multi-use-warehouse/415774/</th>\n",
       "      <th>https://www.ratebeer.com/beer/against-the-grain--akasha-hold-me-closer-thai-ny-danza/341797/</th>\n",
       "      <th>https://www.ratebeer.com/beer/against-the-grain--amager-fistful-of-kroners/306949/</th>\n",
       "      <th>https://www.ratebeer.com/beer/against-the-grain--arizona-wilderness-beer-aged-barrel-ale/370667/</th>\n",
       "      <th>https://www.ratebeer.com/beer/against-the-grain--beer-engine-brettish-bulldog/280353/</th>\n",
       "      <th>https://www.ratebeer.com/beer/against-the-grain--blue-stallion-all-funked-up-berwynnerweisse/255788/</th>\n",
       "      <th>https://www.ratebeer.com/beer/against-the-grain--brewdog-we-mint-well/327738/</th>\n",
       "    </tr>\n",
       "    <tr>\n",
       "      <th>1</th>\n",
       "      <th></th>\n",
       "      <th></th>\n",
       "      <th></th>\n",
       "      <th></th>\n",
       "      <th></th>\n",
       "      <th></th>\n",
       "      <th></th>\n",
       "      <th></th>\n",
       "      <th></th>\n",
       "      <th></th>\n",
       "    </tr>\n",
       "  </thead>\n",
       "  <tbody>\n",
       "    <tr>\n",
       "      <th>https://www.ratebeer.com/beer/10-barrel--bluejacket--stone-suede-imperial-porter/231482/</th>\n",
       "      <td>1.000000</td>\n",
       "      <td>0.189860</td>\n",
       "      <td>0.057313</td>\n",
       "      <td>0.057641</td>\n",
       "      <td>0.075032</td>\n",
       "      <td>0.072096</td>\n",
       "      <td>0.017120</td>\n",
       "      <td>0.080693</td>\n",
       "      <td>0.055503</td>\n",
       "      <td>0.064125</td>\n",
       "    </tr>\n",
       "    <tr>\n",
       "      <th>https://www.ratebeer.com/beer/21st-amendment--firestone-walker--stone-el-camino-unreal-black-ale/119723/</th>\n",
       "      <td>0.189860</td>\n",
       "      <td>1.000000</td>\n",
       "      <td>0.038073</td>\n",
       "      <td>0.052380</td>\n",
       "      <td>0.000000</td>\n",
       "      <td>0.085379</td>\n",
       "      <td>0.023836</td>\n",
       "      <td>0.112212</td>\n",
       "      <td>0.125613</td>\n",
       "      <td>0.036274</td>\n",
       "    </tr>\n",
       "    <tr>\n",
       "      <th>https://www.ratebeer.com/beer/abc-brewing-henrik-imperial-amber/168983/</th>\n",
       "      <td>0.057313</td>\n",
       "      <td>0.038073</td>\n",
       "      <td>1.000000</td>\n",
       "      <td>0.000000</td>\n",
       "      <td>0.000000</td>\n",
       "      <td>0.054640</td>\n",
       "      <td>0.000000</td>\n",
       "      <td>0.052623</td>\n",
       "      <td>0.016552</td>\n",
       "      <td>0.000000</td>\n",
       "    </tr>\n",
       "    <tr>\n",
       "      <th>https://www.ratebeer.com/beer/against-the-grain--18th-street-multi-use-warehouse/415774/</th>\n",
       "      <td>0.057641</td>\n",
       "      <td>0.052380</td>\n",
       "      <td>0.000000</td>\n",
       "      <td>1.000000</td>\n",
       "      <td>0.000000</td>\n",
       "      <td>0.146146</td>\n",
       "      <td>0.088250</td>\n",
       "      <td>0.047937</td>\n",
       "      <td>0.169154</td>\n",
       "      <td>0.383627</td>\n",
       "    </tr>\n",
       "    <tr>\n",
       "      <th>https://www.ratebeer.com/beer/against-the-grain--akasha-hold-me-closer-thai-ny-danza/341797/</th>\n",
       "      <td>0.075032</td>\n",
       "      <td>0.000000</td>\n",
       "      <td>0.000000</td>\n",
       "      <td>0.000000</td>\n",
       "      <td>1.000000</td>\n",
       "      <td>0.000000</td>\n",
       "      <td>0.108750</td>\n",
       "      <td>0.000000</td>\n",
       "      <td>0.000000</td>\n",
       "      <td>0.000000</td>\n",
       "    </tr>\n",
       "    <tr>\n",
       "      <th>https://www.ratebeer.com/beer/against-the-grain--amager-fistful-of-kroners/306949/</th>\n",
       "      <td>0.072096</td>\n",
       "      <td>0.085379</td>\n",
       "      <td>0.054640</td>\n",
       "      <td>0.146146</td>\n",
       "      <td>0.000000</td>\n",
       "      <td>1.000000</td>\n",
       "      <td>0.122055</td>\n",
       "      <td>0.162397</td>\n",
       "      <td>0.186842</td>\n",
       "      <td>0.105208</td>\n",
       "    </tr>\n",
       "    <tr>\n",
       "      <th>https://www.ratebeer.com/beer/against-the-grain--arizona-wilderness-beer-aged-barrel-ale/370667/</th>\n",
       "      <td>0.017120</td>\n",
       "      <td>0.023836</td>\n",
       "      <td>0.000000</td>\n",
       "      <td>0.088250</td>\n",
       "      <td>0.108750</td>\n",
       "      <td>0.122055</td>\n",
       "      <td>1.000000</td>\n",
       "      <td>0.052460</td>\n",
       "      <td>0.103343</td>\n",
       "      <td>0.178776</td>\n",
       "    </tr>\n",
       "    <tr>\n",
       "      <th>https://www.ratebeer.com/beer/against-the-grain--beer-engine-brettish-bulldog/280353/</th>\n",
       "      <td>0.080693</td>\n",
       "      <td>0.112212</td>\n",
       "      <td>0.052623</td>\n",
       "      <td>0.047937</td>\n",
       "      <td>0.000000</td>\n",
       "      <td>0.162397</td>\n",
       "      <td>0.052460</td>\n",
       "      <td>1.000000</td>\n",
       "      <td>0.260213</td>\n",
       "      <td>0.111054</td>\n",
       "    </tr>\n",
       "    <tr>\n",
       "      <th>https://www.ratebeer.com/beer/against-the-grain--blue-stallion-all-funked-up-berwynnerweisse/255788/</th>\n",
       "      <td>0.055503</td>\n",
       "      <td>0.125613</td>\n",
       "      <td>0.016552</td>\n",
       "      <td>0.169154</td>\n",
       "      <td>0.000000</td>\n",
       "      <td>0.186842</td>\n",
       "      <td>0.103343</td>\n",
       "      <td>0.260213</td>\n",
       "      <td>1.000000</td>\n",
       "      <td>0.156777</td>\n",
       "    </tr>\n",
       "    <tr>\n",
       "      <th>https://www.ratebeer.com/beer/against-the-grain--brewdog-we-mint-well/327738/</th>\n",
       "      <td>0.064125</td>\n",
       "      <td>0.036274</td>\n",
       "      <td>0.000000</td>\n",
       "      <td>0.383627</td>\n",
       "      <td>0.000000</td>\n",
       "      <td>0.105208</td>\n",
       "      <td>0.178776</td>\n",
       "      <td>0.111054</td>\n",
       "      <td>0.156777</td>\n",
       "      <td>1.000000</td>\n",
       "    </tr>\n",
       "  </tbody>\n",
       "</table>\n",
       "</div>"
      ],
      "text/plain": [
       "1                                                   https://www.ratebeer.com/beer/10-barrel--bluejacket--stone-suede-imperial-porter/231482/  \\\n",
       "1                                                                                                                                              \n",
       "https://www.ratebeer.com/beer/10-barrel--blueja...                                           1.000000                                          \n",
       "https://www.ratebeer.com/beer/21st-amendment--f...                                           0.189860                                          \n",
       "https://www.ratebeer.com/beer/abc-brewing-henri...                                           0.057313                                          \n",
       "https://www.ratebeer.com/beer/against-the-grain...                                           0.057641                                          \n",
       "https://www.ratebeer.com/beer/against-the-grain...                                           0.075032                                          \n",
       "https://www.ratebeer.com/beer/against-the-grain...                                           0.072096                                          \n",
       "https://www.ratebeer.com/beer/against-the-grain...                                           0.017120                                          \n",
       "https://www.ratebeer.com/beer/against-the-grain...                                           0.080693                                          \n",
       "https://www.ratebeer.com/beer/against-the-grain...                                           0.055503                                          \n",
       "https://www.ratebeer.com/beer/against-the-grain...                                           0.064125                                          \n",
       "\n",
       "1                                                   https://www.ratebeer.com/beer/21st-amendment--firestone-walker--stone-el-camino-unreal-black-ale/119723/  \\\n",
       "1                                                                                                                                                              \n",
       "https://www.ratebeer.com/beer/10-barrel--blueja...                                           0.189860                                                          \n",
       "https://www.ratebeer.com/beer/21st-amendment--f...                                           1.000000                                                          \n",
       "https://www.ratebeer.com/beer/abc-brewing-henri...                                           0.038073                                                          \n",
       "https://www.ratebeer.com/beer/against-the-grain...                                           0.052380                                                          \n",
       "https://www.ratebeer.com/beer/against-the-grain...                                           0.000000                                                          \n",
       "https://www.ratebeer.com/beer/against-the-grain...                                           0.085379                                                          \n",
       "https://www.ratebeer.com/beer/against-the-grain...                                           0.023836                                                          \n",
       "https://www.ratebeer.com/beer/against-the-grain...                                           0.112212                                                          \n",
       "https://www.ratebeer.com/beer/against-the-grain...                                           0.125613                                                          \n",
       "https://www.ratebeer.com/beer/against-the-grain...                                           0.036274                                                          \n",
       "\n",
       "1                                                   https://www.ratebeer.com/beer/abc-brewing-henrik-imperial-amber/168983/  \\\n",
       "1                                                                                                                             \n",
       "https://www.ratebeer.com/beer/10-barrel--blueja...                                           0.057313                         \n",
       "https://www.ratebeer.com/beer/21st-amendment--f...                                           0.038073                         \n",
       "https://www.ratebeer.com/beer/abc-brewing-henri...                                           1.000000                         \n",
       "https://www.ratebeer.com/beer/against-the-grain...                                           0.000000                         \n",
       "https://www.ratebeer.com/beer/against-the-grain...                                           0.000000                         \n",
       "https://www.ratebeer.com/beer/against-the-grain...                                           0.054640                         \n",
       "https://www.ratebeer.com/beer/against-the-grain...                                           0.000000                         \n",
       "https://www.ratebeer.com/beer/against-the-grain...                                           0.052623                         \n",
       "https://www.ratebeer.com/beer/against-the-grain...                                           0.016552                         \n",
       "https://www.ratebeer.com/beer/against-the-grain...                                           0.000000                         \n",
       "\n",
       "1                                                   https://www.ratebeer.com/beer/against-the-grain--18th-street-multi-use-warehouse/415774/  \\\n",
       "1                                                                                                                                              \n",
       "https://www.ratebeer.com/beer/10-barrel--blueja...                                           0.057641                                          \n",
       "https://www.ratebeer.com/beer/21st-amendment--f...                                           0.052380                                          \n",
       "https://www.ratebeer.com/beer/abc-brewing-henri...                                           0.000000                                          \n",
       "https://www.ratebeer.com/beer/against-the-grain...                                           1.000000                                          \n",
       "https://www.ratebeer.com/beer/against-the-grain...                                           0.000000                                          \n",
       "https://www.ratebeer.com/beer/against-the-grain...                                           0.146146                                          \n",
       "https://www.ratebeer.com/beer/against-the-grain...                                           0.088250                                          \n",
       "https://www.ratebeer.com/beer/against-the-grain...                                           0.047937                                          \n",
       "https://www.ratebeer.com/beer/against-the-grain...                                           0.169154                                          \n",
       "https://www.ratebeer.com/beer/against-the-grain...                                           0.383627                                          \n",
       "\n",
       "1                                                   https://www.ratebeer.com/beer/against-the-grain--akasha-hold-me-closer-thai-ny-danza/341797/  \\\n",
       "1                                                                                                                                                  \n",
       "https://www.ratebeer.com/beer/10-barrel--blueja...                                           0.075032                                              \n",
       "https://www.ratebeer.com/beer/21st-amendment--f...                                           0.000000                                              \n",
       "https://www.ratebeer.com/beer/abc-brewing-henri...                                           0.000000                                              \n",
       "https://www.ratebeer.com/beer/against-the-grain...                                           0.000000                                              \n",
       "https://www.ratebeer.com/beer/against-the-grain...                                           1.000000                                              \n",
       "https://www.ratebeer.com/beer/against-the-grain...                                           0.000000                                              \n",
       "https://www.ratebeer.com/beer/against-the-grain...                                           0.108750                                              \n",
       "https://www.ratebeer.com/beer/against-the-grain...                                           0.000000                                              \n",
       "https://www.ratebeer.com/beer/against-the-grain...                                           0.000000                                              \n",
       "https://www.ratebeer.com/beer/against-the-grain...                                           0.000000                                              \n",
       "\n",
       "1                                                   https://www.ratebeer.com/beer/against-the-grain--amager-fistful-of-kroners/306949/  \\\n",
       "1                                                                                                                                        \n",
       "https://www.ratebeer.com/beer/10-barrel--blueja...                                           0.072096                                    \n",
       "https://www.ratebeer.com/beer/21st-amendment--f...                                           0.085379                                    \n",
       "https://www.ratebeer.com/beer/abc-brewing-henri...                                           0.054640                                    \n",
       "https://www.ratebeer.com/beer/against-the-grain...                                           0.146146                                    \n",
       "https://www.ratebeer.com/beer/against-the-grain...                                           0.000000                                    \n",
       "https://www.ratebeer.com/beer/against-the-grain...                                           1.000000                                    \n",
       "https://www.ratebeer.com/beer/against-the-grain...                                           0.122055                                    \n",
       "https://www.ratebeer.com/beer/against-the-grain...                                           0.162397                                    \n",
       "https://www.ratebeer.com/beer/against-the-grain...                                           0.186842                                    \n",
       "https://www.ratebeer.com/beer/against-the-grain...                                           0.105208                                    \n",
       "\n",
       "1                                                   https://www.ratebeer.com/beer/against-the-grain--arizona-wilderness-beer-aged-barrel-ale/370667/  \\\n",
       "1                                                                                                                                                      \n",
       "https://www.ratebeer.com/beer/10-barrel--blueja...                                           0.017120                                                  \n",
       "https://www.ratebeer.com/beer/21st-amendment--f...                                           0.023836                                                  \n",
       "https://www.ratebeer.com/beer/abc-brewing-henri...                                           0.000000                                                  \n",
       "https://www.ratebeer.com/beer/against-the-grain...                                           0.088250                                                  \n",
       "https://www.ratebeer.com/beer/against-the-grain...                                           0.108750                                                  \n",
       "https://www.ratebeer.com/beer/against-the-grain...                                           0.122055                                                  \n",
       "https://www.ratebeer.com/beer/against-the-grain...                                           1.000000                                                  \n",
       "https://www.ratebeer.com/beer/against-the-grain...                                           0.052460                                                  \n",
       "https://www.ratebeer.com/beer/against-the-grain...                                           0.103343                                                  \n",
       "https://www.ratebeer.com/beer/against-the-grain...                                           0.178776                                                  \n",
       "\n",
       "1                                                   https://www.ratebeer.com/beer/against-the-grain--beer-engine-brettish-bulldog/280353/  \\\n",
       "1                                                                                                                                           \n",
       "https://www.ratebeer.com/beer/10-barrel--blueja...                                           0.080693                                       \n",
       "https://www.ratebeer.com/beer/21st-amendment--f...                                           0.112212                                       \n",
       "https://www.ratebeer.com/beer/abc-brewing-henri...                                           0.052623                                       \n",
       "https://www.ratebeer.com/beer/against-the-grain...                                           0.047937                                       \n",
       "https://www.ratebeer.com/beer/against-the-grain...                                           0.000000                                       \n",
       "https://www.ratebeer.com/beer/against-the-grain...                                           0.162397                                       \n",
       "https://www.ratebeer.com/beer/against-the-grain...                                           0.052460                                       \n",
       "https://www.ratebeer.com/beer/against-the-grain...                                           1.000000                                       \n",
       "https://www.ratebeer.com/beer/against-the-grain...                                           0.260213                                       \n",
       "https://www.ratebeer.com/beer/against-the-grain...                                           0.111054                                       \n",
       "\n",
       "1                                                   https://www.ratebeer.com/beer/against-the-grain--blue-stallion-all-funked-up-berwynnerweisse/255788/  \\\n",
       "1                                                                                                                                                          \n",
       "https://www.ratebeer.com/beer/10-barrel--blueja...                                           0.055503                                                      \n",
       "https://www.ratebeer.com/beer/21st-amendment--f...                                           0.125613                                                      \n",
       "https://www.ratebeer.com/beer/abc-brewing-henri...                                           0.016552                                                      \n",
       "https://www.ratebeer.com/beer/against-the-grain...                                           0.169154                                                      \n",
       "https://www.ratebeer.com/beer/against-the-grain...                                           0.000000                                                      \n",
       "https://www.ratebeer.com/beer/against-the-grain...                                           0.186842                                                      \n",
       "https://www.ratebeer.com/beer/against-the-grain...                                           0.103343                                                      \n",
       "https://www.ratebeer.com/beer/against-the-grain...                                           0.260213                                                      \n",
       "https://www.ratebeer.com/beer/against-the-grain...                                           1.000000                                                      \n",
       "https://www.ratebeer.com/beer/against-the-grain...                                           0.156777                                                      \n",
       "\n",
       "1                                                   https://www.ratebeer.com/beer/against-the-grain--brewdog-we-mint-well/327738/  \n",
       "1                                                                                                                                  \n",
       "https://www.ratebeer.com/beer/10-barrel--blueja...                                           0.064125                              \n",
       "https://www.ratebeer.com/beer/21st-amendment--f...                                           0.036274                              \n",
       "https://www.ratebeer.com/beer/abc-brewing-henri...                                           0.000000                              \n",
       "https://www.ratebeer.com/beer/against-the-grain...                                           0.383627                              \n",
       "https://www.ratebeer.com/beer/against-the-grain...                                           0.000000                              \n",
       "https://www.ratebeer.com/beer/against-the-grain...                                           0.105208                              \n",
       "https://www.ratebeer.com/beer/against-the-grain...                                           0.178776                              \n",
       "https://www.ratebeer.com/beer/against-the-grain...                                           0.111054                              \n",
       "https://www.ratebeer.com/beer/against-the-grain...                                           0.156777                              \n",
       "https://www.ratebeer.com/beer/against-the-grain...                                           1.000000                              "
      ]
     },
     "execution_count": 25,
     "metadata": {},
     "output_type": "execute_result"
    }
   ],
   "source": [
    "dists = pd.DataFrame(dists, columns=df_wide[1])\n",
    "\n",
    "dists.index = dists.columns\n",
    "dists.ix[0:10, 0:10]"
   ]
  },
  {
   "cell_type": "code",
   "execution_count": 27,
   "metadata": {
    "collapsed": false
   },
   "outputs": [],
   "source": [
    "dists.to_csv('similarity_matrix.csv')"
   ]
  },
  {
   "cell_type": "code",
   "execution_count": null,
   "metadata": {
    "collapsed": true
   },
   "outputs": [],
   "source": [
    "import random"
   ]
  },
  {
   "cell_type": "code",
   "execution_count": null,
   "metadata": {
    "collapsed": false
   },
   "outputs": [],
   "source": [
    "choices = []\n",
    "for i in range(5):\n",
    "    choices.append(random.choice(df[1].tolist()))"
   ]
  },
  {
   "cell_type": "code",
   "execution_count": null,
   "metadata": {
    "collapsed": false
   },
   "outputs": [],
   "source": [
    "choices"
   ]
  },
  {
   "cell_type": "code",
   "execution_count": null,
   "metadata": {
    "collapsed": false
   },
   "outputs": [],
   "source": [
    "dists[2][choices].head()"
   ]
  },
  {
   "cell_type": "code",
   "execution_count": null,
   "metadata": {
    "collapsed": false
   },
   "outputs": [],
   "source": [
    "beers_summed = dists[2][choices].apply(lambda row: np.sum(row), axis=1)"
   ]
  },
  {
   "cell_type": "code",
   "execution_count": null,
   "metadata": {
    "collapsed": false
   },
   "outputs": [],
   "source": [
    "choices"
   ]
  },
  {
   "cell_type": "code",
   "execution_count": null,
   "metadata": {
    "collapsed": false,
    "scrolled": true
   },
   "outputs": [],
   "source": [
    "beers_summed = dists[2][choices].apply(lambda row: np.sum(row), axis=1)\n",
    "beers_summed = beers_summed.sort_values(ascending=False)\n",
    "ranked_beers = beers_summed.index[beers_summed.index.isin(choices)==False]\n",
    "ranked_beers = ranked_beers.tolist()\n",
    "ranked_beers[2][1]"
   ]
  },
  {
   "cell_type": "code",
   "execution_count": null,
   "metadata": {
    "collapsed": false
   },
   "outputs": [],
   "source": [
    "ranked_beers = beers_summed.index[beers_summed.index.isin(choices)==False]\n",
    "ranked_beers = ranked_beers.tolist()\n",
    "ranked_beers[2][1]"
   ]
  },
  {
   "cell_type": "code",
   "execution_count": null,
   "metadata": {
    "collapsed": false
   },
   "outputs": [],
   "source": [
    "[c for c in df[1].tolist() if 'troegs' in c]"
   ]
  },
  {
   "cell_type": "code",
   "execution_count": 28,
   "metadata": {
    "collapsed": false
   },
   "outputs": [
    {
     "name": "stdout",
     "output_type": "stream",
     "text": [
      "True\n"
     ]
    }
   ],
   "source": [
    "print(True)"
   ]
  },
  {
   "cell_type": "code",
   "execution_count": null,
   "metadata": {
    "collapsed": true
   },
   "outputs": [],
   "source": []
  }
 ],
 "metadata": {
  "anaconda-cloud": {},
  "kernelspec": {
   "display_name": "Python [default]",
   "language": "python",
   "name": "python3"
  },
  "language_info": {
   "codemirror_mode": {
    "name": "ipython",
    "version": 3
   },
   "file_extension": ".py",
   "mimetype": "text/x-python",
   "name": "python",
   "nbconvert_exporter": "python",
   "pygments_lexer": "ipython3",
   "version": "3.5.2"
  }
 },
 "nbformat": 4,
 "nbformat_minor": 1
}
